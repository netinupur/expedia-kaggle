{
 "cells": [
  {
   "cell_type": "code",
   "execution_count": 2,
   "metadata": {},
   "outputs": [
    {
     "name": "stdout",
     "output_type": "stream",
     "text": [
      "Checking whether there is an H2O instance running at http://localhost:54321..... not found.\n",
      "Attempting to start a local H2O server...\n",
      "  Java Version: openjdk version \"1.8.0_152-release\"; OpenJDK Runtime Environment (build 1.8.0_152-release-1056-b12); OpenJDK 64-Bit Server VM (build 25.152-b12, mixed mode)\n",
      "  Starting server from /anaconda3/lib/python3.7/site-packages/h2o/backend/bin/h2o.jar\n",
      "  Ice root: /var/folders/l6/bdpqrx0s7db19zx5zy46_tkr0000gn/T/tmpg4p6xl2n\n",
      "  JVM stdout: /var/folders/l6/bdpqrx0s7db19zx5zy46_tkr0000gn/T/tmpg4p6xl2n/h2o_netinupur_started_from_python.out\n",
      "  JVM stderr: /var/folders/l6/bdpqrx0s7db19zx5zy46_tkr0000gn/T/tmpg4p6xl2n/h2o_netinupur_started_from_python.err\n",
      "  Server is running at http://127.0.0.1:54321\n",
      "Connecting to H2O server at http://127.0.0.1:54321... successful.\n"
     ]
    },
    {
     "data": {
      "text/html": [
       "<div style=\"overflow:auto\"><table style=\"width:50%\"><tr><td>H2O cluster uptime:</td>\n",
       "<td>02 secs</td></tr>\n",
       "<tr><td>H2O cluster timezone:</td>\n",
       "<td>America/New_York</td></tr>\n",
       "<tr><td>H2O data parsing timezone:</td>\n",
       "<td>UTC</td></tr>\n",
       "<tr><td>H2O cluster version:</td>\n",
       "<td>3.22.1.4</td></tr>\n",
       "<tr><td>H2O cluster version age:</td>\n",
       "<td>2 months and 22 days </td></tr>\n",
       "<tr><td>H2O cluster name:</td>\n",
       "<td>H2O_from_python_netinupur_yvgxyk</td></tr>\n",
       "<tr><td>H2O cluster total nodes:</td>\n",
       "<td>1</td></tr>\n",
       "<tr><td>H2O cluster free memory:</td>\n",
       "<td>1.778 Gb</td></tr>\n",
       "<tr><td>H2O cluster total cores:</td>\n",
       "<td>0</td></tr>\n",
       "<tr><td>H2O cluster allowed cores:</td>\n",
       "<td>0</td></tr>\n",
       "<tr><td>H2O cluster status:</td>\n",
       "<td>accepting new members, healthy</td></tr>\n",
       "<tr><td>H2O connection url:</td>\n",
       "<td>http://127.0.0.1:54321</td></tr>\n",
       "<tr><td>H2O connection proxy:</td>\n",
       "<td>None</td></tr>\n",
       "<tr><td>H2O internal security:</td>\n",
       "<td>False</td></tr>\n",
       "<tr><td>H2O API Extensions:</td>\n",
       "<td>Amazon S3, XGBoost, Algos, AutoML, Core V3, Core V4</td></tr>\n",
       "<tr><td>Python version:</td>\n",
       "<td>3.7.1 final</td></tr></table></div>"
      ],
      "text/plain": [
       "--------------------------  ---------------------------------------------------\n",
       "H2O cluster uptime:         02 secs\n",
       "H2O cluster timezone:       America/New_York\n",
       "H2O data parsing timezone:  UTC\n",
       "H2O cluster version:        3.22.1.4\n",
       "H2O cluster version age:    2 months and 22 days\n",
       "H2O cluster name:           H2O_from_python_netinupur_yvgxyk\n",
       "H2O cluster total nodes:    1\n",
       "H2O cluster free memory:    1.778 Gb\n",
       "H2O cluster total cores:    0\n",
       "H2O cluster allowed cores:  0\n",
       "H2O cluster status:         accepting new members, healthy\n",
       "H2O connection url:         http://127.0.0.1:54321\n",
       "H2O connection proxy:\n",
       "H2O internal security:      False\n",
       "H2O API Extensions:         Amazon S3, XGBoost, Algos, AutoML, Core V3, Core V4\n",
       "Python version:             3.7.1 final\n",
       "--------------------------  ---------------------------------------------------"
      ]
     },
     "metadata": {},
     "output_type": "display_data"
    }
   ],
   "source": [
    "# start and import h2o\n",
    "# set seed\n",
    "import h2o\n",
    "h2o.init()\n",
    "from h2o.estimators.glm import H2OGeneralizedLinearEstimator\n",
    "from h2o.targetencoder import TargetEncoder\n",
    "from h2o.estimators.gbm import H2OGradientBoostingEstimator \n",
    "from h2o.grid.grid_search import H2OGridSearch\n",
    "from h2o.estimators.deeplearning import H2ODeepLearningEstimator\n",
    "SEED = 12345"
   ]
  },
  {
   "cell_type": "code",
   "execution_count": 3,
   "metadata": {},
   "outputs": [
    {
     "name": "stdout",
     "output_type": "stream",
     "text": [
      "Parse progress: |█████████████████████████████████████████████████████████| 100%\n",
      "Parse progress: |█████████████████████████████████████████████████████████| 100%\n",
      "Parse progress: |█████████████████████████████████████████████████████████| 100%\n"
     ]
    }
   ],
   "source": [
    "col_types = {'hotel_cluster': 'enum',\n",
    "             'user_id': 'enum',\n",
    "             'srch_destination_id': 'enum',\n",
    "             'hotel_location_id': 'enum',\n",
    "             'srch_ci':'enum',\n",
    "             'srch_co':'enum',\n",
    "             'date_time':'enum',\n",
    "             'user_location_id': 'enum',\n",
    "             'srch_destination_type_id': 'enum',\n",
    "             'channel': 'enum',\n",
    "             'is_package': 'enum',\n",
    "             'is_booking': 'enum'\n",
    "            }\n",
    "\n",
    "\n",
    "train= h2o.import_file(path=\"train.csv\",col_types=col_types)\n",
    "test= h2o.import_file(path=\"test.csv\",col_types=col_types)\n",
    "valid= h2o.import_file(path=\"valid.csv\",col_types=col_types)"
   ]
  },
  {
   "cell_type": "code",
   "execution_count": 4,
   "metadata": {},
   "outputs": [
    {
     "name": "stdout",
     "output_type": "stream",
     "text": [
      "Rows:562167\n",
      "Cols:21\n",
      "\n",
      "\n"
     ]
    },
    {
     "data": {
      "text/html": [
       "<table>\n",
       "<thead>\n",
       "<tr><th>       </th><th>hotel_cluster  </th><th>user_id  </th><th>srch_destination_id  </th><th>hotel_location_id  </th><th>srch_ci   </th><th>srch_co   </th><th>date_time       </th><th>user_location_id  </th><th>srch_destination_type_id  </th><th>channel  </th><th>is_package  </th><th>is_booking  </th><th>srch_ci_month    </th><th>srch_ci_dayofweek  </th><th>srch_dayofweek    </th><th>srch_adults_cnt   </th><th>srch_children_cnt  </th><th>srch_rm_cnt        </th><th>length_stay      </th><th>book_advance_day  </th><th>cnt              </th></tr>\n",
       "</thead>\n",
       "<tbody>\n",
       "<tr><td>type   </td><td>enum           </td><td>enum     </td><td>enum                 </td><td>enum               </td><td>enum      </td><td>enum      </td><td>enum            </td><td>enum              </td><td>enum                      </td><td>enum     </td><td>enum        </td><td>enum        </td><td>int              </td><td>int                </td><td>int               </td><td>int               </td><td>int                </td><td>int                </td><td>int              </td><td>int               </td><td>int              </td></tr>\n",
       "<tr><td>mins   </td><td>               </td><td>         </td><td>                     </td><td>                   </td><td>          </td><td>          </td><td>                </td><td>                  </td><td>                          </td><td>         </td><td>            </td><td>            </td><td>1.0              </td><td>1.0                </td><td>1.0               </td><td>0.0               </td><td>0.0                </td><td>1.0                </td><td>-148.0           </td><td>0.0               </td><td>1.0              </td></tr>\n",
       "<tr><td>mean   </td><td>               </td><td>         </td><td>                     </td><td>                   </td><td>          </td><td>          </td><td>                </td><td>                  </td><td>                          </td><td>         </td><td>            </td><td>            </td><td>6.193673765980572</td><td>4.294234631346201  </td><td>3.8751456417754766</td><td>1.9533786223666625</td><td>0.37705521668827885</td><td>1.102131573002329  </td><td>3.518050686006117</td><td>56.35505819445109 </td><td>4.004384818034502</td></tr>\n",
       "<tr><td>maxs   </td><td>               </td><td>         </td><td>                     </td><td>                   </td><td>          </td><td>          </td><td>                </td><td>                  </td><td>                          </td><td>         </td><td>            </td><td>            </td><td>12.0             </td><td>7.0                </td><td>7.0               </td><td>9.0               </td><td>9.0                </td><td>8.0                </td><td>366.0            </td><td>6200.0            </td><td>281.0            </td></tr>\n",
       "<tr><td>sigma  </td><td>               </td><td>         </td><td>                     </td><td>                   </td><td>          </td><td>          </td><td>                </td><td>                  </td><td>                          </td><td>         </td><td>            </td><td>            </td><td>3.353108715152266</td><td>2.006741954865364  </td><td>1.917421207914957 </td><td>0.8347708621573421</td><td>0.7254928223355738 </td><td>0.42211452491383233</td><td>3.529290983133775</td><td>67.24413540201998 </td><td>6.092056172936305</td></tr>\n",
       "<tr><td>zeros  </td><td>               </td><td>         </td><td>                     </td><td>                   </td><td>          </td><td>          </td><td>                </td><td>                  </td><td>                          </td><td>         </td><td>            </td><td>            </td><td>0                </td><td>0                  </td><td>0                 </td><td>1598              </td><td>415704             </td><td>0                  </td><td>5198             </td><td>16985             </td><td>0                </td></tr>\n",
       "<tr><td>missing</td><td>0              </td><td>0        </td><td>0                    </td><td>0                  </td><td>0         </td><td>0         </td><td>0               </td><td>0                 </td><td>0                         </td><td>0        </td><td>0           </td><td>0           </td><td>0                </td><td>0                  </td><td>0                 </td><td>0                 </td><td>0                  </td><td>0                  </td><td>0                </td><td>0                 </td><td>0                </td></tr>\n",
       "<tr><td>0      </td><td>10             </td><td>725753   </td><td>8288                 </td><td>882                </td><td>2013-01-11</td><td>2013-01-12</td><td>07JAN13:00:02:02</td><td>2112              </td><td>1                         </td><td>5        </td><td>0           </td><td>1           </td><td>1.0              </td><td>6.0                </td><td>2.0               </td><td>2.0               </td><td>0.0                </td><td>1.0                </td><td>1.0              </td><td>4.0               </td><td>1.0              </td></tr>\n",
       "<tr><td>1      </td><td>98             </td><td>368084   </td><td>44045                </td><td>449                </td><td>2013-03-04</td><td>2013-03-06</td><td>07JAN13:00:04:58</td><td>809               </td><td>3                         </td><td>3        </td><td>0           </td><td>0           </td><td>3.0              </td><td>2.0                </td><td>2.0               </td><td>4.0               </td><td>0.0                </td><td>1.0                </td><td>2.0              </td><td>56.0              </td><td>3.0              </td></tr>\n",
       "<tr><td>2      </td><td>7              </td><td>756870   </td><td>1811                 </td><td>921                </td><td>2013-01-08</td><td>2013-01-09</td><td>07JAN13:00:05:56</td><td>2112              </td><td>1                         </td><td>0        </td><td>0           </td><td>0           </td><td>1.0              </td><td>3.0                </td><td>2.0               </td><td>2.0               </td><td>1.0                </td><td>1.0                </td><td>1.0              </td><td>1.0               </td><td>6.0              </td></tr>\n",
       "<tr><td>3      </td><td>37             </td><td>1119057  </td><td>44035                </td><td>2108               </td><td>2013-01-28</td><td>2013-02-02</td><td>07JAN13:00:11:44</td><td>356               </td><td>6                         </td><td>9        </td><td>1           </td><td>0           </td><td>1.0              </td><td>2.0                </td><td>2.0               </td><td>2.0               </td><td>0.0                </td><td>1.0                </td><td>5.0              </td><td>21.0              </td><td>2.0              </td></tr>\n",
       "<tr><td>4      </td><td>25             </td><td>867685   </td><td>8263                 </td><td>1698               </td><td>2013-02-10</td><td>2013-02-14</td><td>07JAN13:00:15:18</td><td>1019              </td><td>1                         </td><td>9        </td><td>0           </td><td>0           </td><td>2.0              </td><td>1.0                </td><td>2.0               </td><td>1.0               </td><td>0.0                </td><td>1.0                </td><td>4.0              </td><td>34.0              </td><td>3.0              </td></tr>\n",
       "<tr><td>5      </td><td>88             </td><td>283970   </td><td>8250                 </td><td>377                </td><td>2013-05-23</td><td>2013-05-30</td><td>07JAN13:00:18:33</td><td>786               </td><td>1                         </td><td>0        </td><td>0           </td><td>0           </td><td>5.0              </td><td>5.0                </td><td>2.0               </td><td>2.0               </td><td>0.0                </td><td>1.0                </td><td>7.0              </td><td>136.0             </td><td>3.0              </td></tr>\n",
       "<tr><td>6      </td><td>25             </td><td>124561   </td><td>20796                </td><td>1821               </td><td>2013-03-09</td><td>2013-03-13</td><td>07JAN13:00:23:13</td><td>1561              </td><td>6                         </td><td>3        </td><td>0           </td><td>0           </td><td>3.0              </td><td>7.0                </td><td>2.0               </td><td>2.0               </td><td>2.0                </td><td>1.0                </td><td>4.0              </td><td>61.0              </td><td>1.0              </td></tr>\n",
       "<tr><td>7      </td><td>63             </td><td>799025   </td><td>8810                 </td><td>1349               </td><td>2013-03-22</td><td>2013-03-30</td><td>07JAN13:00:23:52</td><td>817               </td><td>1                         </td><td>3        </td><td>1           </td><td>0           </td><td>3.0              </td><td>6.0                </td><td>2.0               </td><td>2.0               </td><td>0.0                </td><td>1.0                </td><td>8.0              </td><td>74.0              </td><td>4.0              </td></tr>\n",
       "<tr><td>8      </td><td>8              </td><td>486729   </td><td>8819                 </td><td>1259               </td><td>2013-04-29</td><td>2013-05-01</td><td>07JAN13:00:27:01</td><td>159               </td><td>1                         </td><td>9        </td><td>0           </td><td>0           </td><td>4.0              </td><td>2.0                </td><td>2.0               </td><td>2.0               </td><td>2.0                </td><td>1.0                </td><td>2.0              </td><td>112.0             </td><td>2.0              </td></tr>\n",
       "<tr><td>9      </td><td>91             </td><td>10656    </td><td>8288                 </td><td>882                </td><td>2013-04-13</td><td>2013-04-15</td><td>07JAN13:00:29:19</td><td>2112              </td><td>1                         </td><td>9        </td><td>0           </td><td>0           </td><td>4.0              </td><td>7.0                </td><td>2.0               </td><td>2.0               </td><td>1.0                </td><td>1.0                </td><td>2.0              </td><td>96.0              </td><td>1.0              </td></tr>\n",
       "</tbody>\n",
       "</table>"
      ]
     },
     "metadata": {},
     "output_type": "display_data"
    }
   ],
   "source": [
    "train.describe()"
   ]
  },
  {
   "cell_type": "code",
   "execution_count": 5,
   "metadata": {},
   "outputs": [
    {
     "name": "stdout",
     "output_type": "stream",
     "text": [
      "is_booking\n"
     ]
    }
   ],
   "source": [
    "#assign target and inputs\n",
    "y = 'is_booking'\n",
    "print(y)"
   ]
  },
  {
   "cell_type": "code",
   "execution_count": 12,
   "metadata": {},
   "outputs": [],
   "source": [
    "# train target encoder for hotel_location_id and user_location_id\n",
    "e_columns = ['hotel_location_id','user_location_id']\n",
    "te_ = h2o.targetencoder.TargetEncoder(x=e_columns, y=y)\n",
    "train[y] = train[y].asfactor()\n",
    "_ = te_.fit(train)\n",
    "e_train = te_.transform(frame=train, holdout_type='loo', seed=12345)\n",
    "e_valid = te_.transform(frame=valid, holdout_type='loo', seed=12345)\n",
    "e_test = te_.transform(frame=test, holdout_type='loo', seed=12345)"
   ]
  },
  {
   "cell_type": "code",
   "execution_count": 13,
   "metadata": {},
   "outputs": [],
   "source": [
    "#train encode for srch_Destination_id \n",
    "e_columns_2=['srch_destination_id']\n",
    "te_ = h2o.targetencoder.TargetEncoder(x=e_columns_2, y=y)\n",
    "e_train[y] = e_train[y].asfactor()\n",
    "_ = te_.fit(e_train)\n",
    "e_train = te_.transform(frame=e_train, holdout_type='loo', seed=12345)\n",
    "e_valid = te_.transform(frame=e_valid, holdout_type='loo', seed=12345)\n",
    "e_test = te_.transform(frame=e_test, holdout_type='loo', seed=12345)"
   ]
  },
  {
   "cell_type": "code",
   "execution_count": 14,
   "metadata": {},
   "outputs": [
    {
     "name": "stdout",
     "output_type": "stream",
     "text": [
      "Rows:562167\n",
      "Cols:24\n",
      "\n",
      "\n"
     ]
    },
    {
     "data": {
      "text/html": [
       "<table>\n",
       "<thead>\n",
       "<tr><th>       </th><th>srch_destination_id  </th><th>user_location_id  </th><th>hotel_location_id  </th><th>hotel_cluster  </th><th>user_id  </th><th>srch_ci   </th><th>srch_co   </th><th>date_time       </th><th>srch_destination_type_id  </th><th>channel  </th><th>is_package  </th><th>is_booking  </th><th>srch_ci_month     </th><th>srch_ci_dayofweek  </th><th>srch_dayofweek    </th><th>srch_adults_cnt   </th><th>srch_children_cnt  </th><th>srch_rm_cnt       </th><th>length_stay       </th><th>book_advance_day  </th><th>cnt              </th><th>hotel_location_id_te  </th><th>user_location_id_te  </th><th>srch_destination_id_te  </th></tr>\n",
       "</thead>\n",
       "<tbody>\n",
       "<tr><td>type   </td><td>enum                 </td><td>enum              </td><td>enum               </td><td>enum           </td><td>enum     </td><td>enum      </td><td>enum      </td><td>enum            </td><td>enum                      </td><td>enum     </td><td>enum        </td><td>enum        </td><td>int               </td><td>int                </td><td>int               </td><td>int               </td><td>int                </td><td>int               </td><td>int               </td><td>int               </td><td>int              </td><td>real                  </td><td>real                 </td><td>real                    </td></tr>\n",
       "<tr><td>mins   </td><td>                     </td><td>                  </td><td>                   </td><td>               </td><td>         </td><td>          </td><td>          </td><td>                </td><td>                          </td><td>         </td><td>            </td><td>            </td><td>1.0               </td><td>1.0                </td><td>1.0               </td><td>0.0               </td><td>0.0                </td><td>1.0               </td><td>-148.0            </td><td>0.0               </td><td>1.0              </td><td>-0.009986411333084106 </td><td>-0.009840749082234871</td><td>-0.009996926784515381   </td></tr>\n",
       "<tr><td>mean   </td><td>                     </td><td>                  </td><td>                   </td><td>               </td><td>         </td><td>          </td><td>          </td><td>                </td><td>                          </td><td>         </td><td>            </td><td>            </td><td>6.1936737659805745</td><td>4.294234631346207  </td><td>3.8751456417754873</td><td>1.953378622366664 </td><td>0.3770552166882803 </td><td>1.102131573002328 </td><td>3.5180506860061116</td><td>56.35505819445118 </td><td>4.004384818034503</td><td>0.20375859499151272   </td><td>0.20369744585536592  </td><td>0.20237693510988505     </td></tr>\n",
       "<tr><td>maxs   </td><td>                     </td><td>                  </td><td>                   </td><td>               </td><td>         </td><td>          </td><td>          </td><td>                </td><td>                          </td><td>         </td><td>            </td><td>            </td><td>12.0              </td><td>7.0                </td><td>7.0               </td><td>9.0               </td><td>9.0                </td><td>8.0               </td><td>366.0             </td><td>6200.0            </td><td>281.0            </td><td>0.9943375872391644    </td><td>0.790806913049144    </td><td>1.0001233952609774      </td></tr>\n",
       "<tr><td>sigma  </td><td>                     </td><td>                  </td><td>                   </td><td>               </td><td>         </td><td>          </td><td>          </td><td>                </td><td>                          </td><td>         </td><td>            </td><td>            </td><td>3.3531087151522674</td><td>2.0067419548653596 </td><td>1.9174212079149617</td><td>0.8347708621573414</td><td>0.725492822335575  </td><td>0.4221145249138319</td><td>3.5292909831337727</td><td>67.24413540201995 </td><td>6.092056172936318</td><td>0.09321756988627682   </td><td>0.031066344655911085 </td><td>0.10860649549146467     </td></tr>\n",
       "<tr><td>zeros  </td><td>                     </td><td>                  </td><td>                   </td><td>               </td><td>         </td><td>          </td><td>          </td><td>                </td><td>                          </td><td>         </td><td>            </td><td>            </td><td>0                 </td><td>0                  </td><td>0                 </td><td>1598              </td><td>415704             </td><td>0                 </td><td>5198              </td><td>16985             </td><td>0                </td><td>0                     </td><td>0                    </td><td>0                       </td></tr>\n",
       "<tr><td>missing</td><td>0                    </td><td>0                 </td><td>0                  </td><td>0              </td><td>0        </td><td>0         </td><td>0         </td><td>0               </td><td>0                         </td><td>0        </td><td>0           </td><td>0           </td><td>0                 </td><td>0                  </td><td>0                 </td><td>0                 </td><td>0                  </td><td>0                 </td><td>0                 </td><td>0                 </td><td>0                </td><td>0                     </td><td>0                    </td><td>0                       </td></tr>\n",
       "<tr><td>0      </td><td>10                   </td><td>779               </td><td>397                </td><td>7              </td><td>562657   </td><td>2013-10-09</td><td>2013-10-13</td><td>04MAR13:20:41:27</td><td>3                         </td><td>9        </td><td>0           </td><td>0           </td><td>10.0              </td><td>4.0                </td><td>2.0               </td><td>2.0               </td><td>0.0                </td><td>1.0               </td><td>4.0               </td><td>219.0             </td><td>1.0              </td><td>0.39142249740087065   </td><td>0.20005846380452455  </td><td>0.2927211096774656      </td></tr>\n",
       "<tr><td>1      </td><td>10                   </td><td>805               </td><td>397                </td><td>28             </td><td>761376   </td><td>2013-03-31</td><td>2013-04-01</td><td>30MAR13:22:41:22</td><td>3                         </td><td>0        </td><td>0           </td><td>1           </td><td>3.0               </td><td>1.0                </td><td>7.0               </td><td>2.0               </td><td>3.0                </td><td>1.0               </td><td>1.0               </td><td>1.0               </td><td>3.0              </td><td>0.3939858382481795    </td><td>0.22015671516008933  </td><td>0.1785091968907301      </td></tr>\n",
       "<tr><td>2      </td><td>100                  </td><td>1363              </td><td>1484               </td><td>67             </td><td>538688   </td><td>2013-03-03</td><td>2013-03-05</td><td>27JAN13:15:36:41</td><td>1                         </td><td>9        </td><td>1           </td><td>0           </td><td>3.0               </td><td>1.0                </td><td>1.0               </td><td>1.0               </td><td>0.0                </td><td>1.0               </td><td>2.0               </td><td>35.0              </td><td>1.0              </td><td>0.24909711122448577   </td><td>0.17352099830454046  </td><td>0.25291611388668006     </td></tr>\n",
       "<tr><td>3      </td><td>100                  </td><td>1423              </td><td>1484               </td><td>78             </td><td>114550   </td><td>2013-06-22</td><td>2013-06-24</td><td>20JUN13:14:42:51</td><td>1                         </td><td>9        </td><td>0           </td><td>1           </td><td>6.0               </td><td>7.0                </td><td>5.0               </td><td>1.0               </td><td>0.0                </td><td>1.0               </td><td>2.0               </td><td>2.0               </td><td>10.0             </td><td>0.22230863060255396   </td><td>0.16655989567438761  </td><td>0.2309020949727606      </td></tr>\n",
       "<tr><td>4      </td><td>100                  </td><td>1480              </td><td>1484               </td><td>81             </td><td>978496   </td><td>2013-08-10</td><td>2013-08-15</td><td>01AUG13:03:31:46</td><td>1                         </td><td>9        </td><td>0           </td><td>0           </td><td>8.0               </td><td>7.0                </td><td>5.0               </td><td>2.0               </td><td>0.0                </td><td>1.0               </td><td>5.0               </td><td>10.0              </td><td>3.0              </td><td>0.25945483922894136   </td><td>0.18529884612281186  </td><td>0.2622575660084147      </td></tr>\n",
       "<tr><td>5      </td><td>100                  </td><td>1691              </td><td>1484               </td><td>82             </td><td>1073908  </td><td>2013-04-16</td><td>2013-04-17</td><td>13APR13:18:17:32</td><td>1                         </td><td>9        </td><td>0           </td><td>0           </td><td>4.0               </td><td>3.0                </td><td>7.0               </td><td>1.0               </td><td>0.0                </td><td>1.0               </td><td>1.0               </td><td>3.0               </td><td>17.0             </td><td>0.25723586320812836   </td><td>0.028764468966397075 </td><td>0.2619878168438334      </td></tr>\n",
       "<tr><td>6      </td><td>100                  </td><td>1694              </td><td>1484               </td><td>81             </td><td>1116623  </td><td>2013-09-12</td><td>2013-09-13</td><td>11SEP13:22:16:02</td><td>1                         </td><td>0        </td><td>0           </td><td>1           </td><td>9.0               </td><td>5.0                </td><td>4.0               </td><td>2.0               </td><td>0.0                </td><td>1.0               </td><td>1.0               </td><td>5.0               </td><td>7.0              </td><td>0.20915062274237023   </td><td>0.06457202498505754  </td><td>0.22256568802657833     </td></tr>\n",
       "<tr><td>7      </td><td>100                  </td><td>1738              </td><td>1484               </td><td>58             </td><td>592443   </td><td>2013-12-18</td><td>2013-12-20</td><td>16DEC13:05:56:06</td><td>1                         </td><td>3        </td><td>0           </td><td>0           </td><td>12.0              </td><td>4.0                </td><td>2.0               </td><td>1.0               </td><td>0.0                </td><td>1.0               </td><td>2.0               </td><td>2.0               </td><td>1.0              </td><td>0.24118903875286712   </td><td>0.24989708065986632  </td><td>0.2657557876442332      </td></tr>\n",
       "<tr><td>8      </td><td>100                  </td><td>1739              </td><td>1484               </td><td>81             </td><td>155777   </td><td>2013-08-08</td><td>2013-08-09</td><td>08AUG13:10:04:04</td><td>1                         </td><td>9        </td><td>0           </td><td>1           </td><td>8.0               </td><td>5.0                </td><td>5.0               </td><td>1.0               </td><td>0.0                </td><td>1.0               </td><td>1.0               </td><td>0.0               </td><td>2.0              </td><td>0.21012274827261315   </td><td>0.20505096435546877  </td><td>0.22014915360275022     </td></tr>\n",
       "<tr><td>9      </td><td>100                  </td><td>1739              </td><td>1484               </td><td>43             </td><td>974234   </td><td>2014-01-05</td><td>2014-01-10</td><td>12DEC13:04:06:09</td><td>1                         </td><td>9        </td><td>0           </td><td>1           </td><td>1.0               </td><td>1.0                </td><td>5.0               </td><td>2.0               </td><td>0.0                </td><td>1.0               </td><td>5.0               </td><td>24.0              </td><td>2.0              </td><td>0.21406965221662866   </td><td>0.21173027515411377  </td><td>0.22747043742004147     </td></tr>\n",
       "</tbody>\n",
       "</table>"
      ]
     },
     "metadata": {},
     "output_type": "display_data"
    }
   ],
   "source": [
    "e_train.describe()"
   ]
  },
  {
   "cell_type": "code",
   "execution_count": 15,
   "metadata": {},
   "outputs": [
    {
     "name": "stdout",
     "output_type": "stream",
     "text": [
      "Rows:421626\n",
      "Cols:24\n",
      "\n",
      "\n"
     ]
    },
    {
     "data": {
      "text/html": [
       "<table>\n",
       "<thead>\n",
       "<tr><th>       </th><th>srch_destination_id  </th><th>user_location_id  </th><th>hotel_location_id  </th><th>hotel_cluster  </th><th>user_id  </th><th>srch_ci   </th><th>srch_co   </th><th>date_time       </th><th>srch_destination_type_id  </th><th>channel  </th><th>is_package  </th><th>is_booking  </th><th>srch_ci_month     </th><th>srch_ci_dayofweek  </th><th>srch_dayofweek    </th><th>srch_adults_cnt   </th><th>srch_children_cnt  </th><th>srch_rm_cnt       </th><th>length_stay      </th><th>book_advance_day  </th><th>cnt               </th><th>hotel_location_id_te  </th><th>user_location_id_te  </th><th>srch_destination_id_te  </th></tr>\n",
       "</thead>\n",
       "<tbody>\n",
       "<tr><td>type   </td><td>enum                 </td><td>enum              </td><td>enum               </td><td>enum           </td><td>enum     </td><td>enum      </td><td>enum      </td><td>enum            </td><td>enum                      </td><td>enum     </td><td>enum        </td><td>enum        </td><td>int               </td><td>int                </td><td>int               </td><td>int               </td><td>int                </td><td>int               </td><td>int              </td><td>int               </td><td>int               </td><td>real                  </td><td>real                 </td><td>real                    </td></tr>\n",
       "<tr><td>mins   </td><td>                     </td><td>                  </td><td>                   </td><td>               </td><td>         </td><td>          </td><td>          </td><td>                </td><td>                          </td><td>         </td><td>            </td><td>            </td><td>1.0               </td><td>1.0                </td><td>1.0               </td><td>0.0               </td><td>0.0                </td><td>0.0               </td><td>-6.0             </td><td>0.0               </td><td>1.0               </td><td>-0.1560486080029326   </td><td>-0.16133638721145477 </td><td>-0.16172013979591215    </td></tr>\n",
       "<tr><td>mean   </td><td>                     </td><td>                  </td><td>                   </td><td>               </td><td>         </td><td>          </td><td>          </td><td>                </td><td>                          </td><td>         </td><td>            </td><td>            </td><td>7.024806344959747 </td><td>4.299194072471816  </td><td>3.8737459264846135</td><td>2.002959969261861 </td><td>0.32349048682955983</td><td>1.1051619207544117</td><td>3.356045405169503</td><td>53.91042060973479 </td><td>3.9013723062619454</td><td>0.20666097973468867   </td><td>0.2039072916578801   </td><td>0.20385504677324998     </td></tr>\n",
       "<tr><td>maxs   </td><td>                     </td><td>                  </td><td>                   </td><td>               </td><td>         </td><td>          </td><td>          </td><td>                </td><td>                          </td><td>         </td><td>            </td><td>            </td><td>12.0              </td><td>7.0                </td><td>7.0               </td><td>9.0               </td><td>9.0                </td><td>8.0               </td><td>366.0            </td><td>586.0             </td><td>307.0             </td><td>0.9926566253918592    </td><td>0.7524791121691421   </td><td>1.0817684223806303      </td></tr>\n",
       "<tr><td>sigma  </td><td>                     </td><td>                  </td><td>                   </td><td>               </td><td>         </td><td>          </td><td>          </td><td>                </td><td>                          </td><td>         </td><td>            </td><td>            </td><td>2.1785693390632743</td><td>2.012698062848197  </td><td>1.879432102984028 </td><td>0.8570612244091304</td><td>0.7357806900732015 </td><td>0.4301813284224013</td><td>3.221676205174172</td><td>66.31496066594421 </td><td>5.925942535883332 </td><td>0.09532471577808616   </td><td>0.031944166643194015 </td><td>0.1111626030365323      </td></tr>\n",
       "<tr><td>zeros  </td><td>                     </td><td>                  </td><td>                   </td><td>               </td><td>         </td><td>          </td><td>          </td><td>                </td><td>                          </td><td>         </td><td>            </td><td>            </td><td>0                 </td><td>0                  </td><td>0                 </td><td>751               </td><td>339148             </td><td>4                 </td><td>3395             </td><td>13716             </td><td>0                 </td><td>0                     </td><td>0                    </td><td>0                       </td></tr>\n",
       "<tr><td>missing</td><td>0                    </td><td>0                 </td><td>0                  </td><td>0              </td><td>0        </td><td>0         </td><td>0         </td><td>0               </td><td>0                         </td><td>0        </td><td>0           </td><td>0           </td><td>0                 </td><td>0                  </td><td>0                 </td><td>0                 </td><td>0                  </td><td>0                 </td><td>0                </td><td>0                 </td><td>0                 </td><td>0                     </td><td>0                    </td><td>0                       </td></tr>\n",
       "<tr><td>0      </td><td>39393                </td><td>1467              </td><td>1200               </td><td>30             </td><td>120030   </td><td>2014-09-05</td><td>2014-09-06</td><td>29JUL14:16:10:06</td><td>4                         </td><td>5        </td><td>0           </td><td>0           </td><td>9.0               </td><td>6.0                </td><td>3.0               </td><td>2.0               </td><td>0.0                </td><td>1.0               </td><td>1.0              </td><td>38.0              </td><td>1.0               </td><td>0.20773286292518395   </td><td>0.2037437273977306   </td><td>0.20374372739773083     </td></tr>\n",
       "<tr><td>1      </td><td>56360                </td><td>1815              </td><td>1230               </td><td>61             </td><td>27007    </td><td>2014-06-07</td><td>2014-06-08</td><td>03JUN14:14:37:33</td><td>3                         </td><td>5        </td><td>0           </td><td>0           </td><td>6.0               </td><td>7.0                </td><td>3.0               </td><td>3.0               </td><td>0.0                </td><td>1.0               </td><td>1.0              </td><td>4.0               </td><td>2.0               </td><td>0.27380023290306854   </td><td>0.2037437273977306   </td><td>0.20374372739773083     </td></tr>\n",
       "<tr><td>2      </td><td>57923                </td><td>1085              </td><td>1268               </td><td>82             </td><td>799567   </td><td>2014-07-26</td><td>2014-07-27</td><td>03JUL14:09:27:35</td><td>4                         </td><td>2        </td><td>0           </td><td>1           </td><td>7.0               </td><td>7.0                </td><td>5.0               </td><td>2.0               </td><td>0.0                </td><td>3.0               </td><td>1.0              </td><td>23.0              </td><td>3.0               </td><td>0.15841573902719536   </td><td>0.2037437273977306   </td><td>0.20374372739773083     </td></tr>\n",
       "<tr><td>3      </td><td>57923                </td><td>1085              </td><td>1268               </td><td>82             </td><td>799567   </td><td>2014-10-18</td><td>2014-10-19</td><td>18AUG14:08:08:44</td><td>4                         </td><td>2        </td><td>0           </td><td>0           </td><td>10.0              </td><td>7.0                </td><td>2.0               </td><td>2.0               </td><td>0.0                </td><td>1.0               </td><td>1.0              </td><td>61.0              </td><td>1.0               </td><td>0.1722376585639124    </td><td>0.2037437273977306   </td><td>0.20374372739773083     </td></tr>\n",
       "<tr><td>4      </td><td>24730                </td><td>1108              </td><td>1275               </td><td>93             </td><td>141511   </td><td>2014-04-06</td><td>2014-04-08</td><td>24MAR14:00:34:01</td><td>3                         </td><td>3        </td><td>0           </td><td>0           </td><td>4.0               </td><td>1.0                </td><td>2.0               </td><td>4.0               </td><td>0.0                </td><td>1.0               </td><td>2.0              </td><td>13.0              </td><td>1.0               </td><td>0.06219400836585043   </td><td>0.2037437273977306   </td><td>0.20374372739773083     </td></tr>\n",
       "<tr><td>5      </td><td>29815                </td><td>492               </td><td>1359               </td><td>63             </td><td>1129745  </td><td>2014-09-02</td><td>2014-09-07</td><td>22AUG14:00:55:34</td><td>4                         </td><td>9        </td><td>0           </td><td>0           </td><td>9.0               </td><td>3.0                </td><td>6.0               </td><td>2.0               </td><td>0.0                </td><td>1.0               </td><td>5.0              </td><td>11.0              </td><td>1.0               </td><td>0.029223494786842198  </td><td>0.2037437273977306   </td><td>0.20374372739773083     </td></tr>\n",
       "<tr><td>6      </td><td>61023                </td><td>1438              </td><td>1368               </td><td>43             </td><td>1044199  </td><td>2014-07-29</td><td>2014-07-31</td><td>28JUL14:16:46:51</td><td>6                         </td><td>9        </td><td>0           </td><td>0           </td><td>7.0               </td><td>3.0                </td><td>2.0               </td><td>2.0               </td><td>0.0                </td><td>1.0               </td><td>2.0              </td><td>1.0               </td><td>1.0               </td><td>0.09538313525695154   </td><td>0.2037437273977306   </td><td>0.20374372739773083     </td></tr>\n",
       "<tr><td>7      </td><td>54740                </td><td>1503              </td><td>1436               </td><td>93             </td><td>323032   </td><td>2014-08-05</td><td>2014-08-08</td><td>16JUL14:08:56:59</td><td>6                         </td><td>1        </td><td>0           </td><td>0           </td><td>8.0               </td><td>3.0                </td><td>4.0               </td><td>1.0               </td><td>0.0                </td><td>1.0               </td><td>3.0              </td><td>20.0              </td><td>1.0               </td><td>0.30202979474178115   </td><td>0.2037437273977306   </td><td>0.20374372739773083     </td></tr>\n",
       "<tr><td>8      </td><td>1438                 </td><td>224               </td><td>1620               </td><td>60             </td><td>802991   </td><td>2015-06-13</td><td>2015-06-20</td><td>26JUL14:09:26:36</td><td>3                         </td><td>9        </td><td>0           </td><td>0           </td><td>6.0               </td><td>7.0                </td><td>7.0               </td><td>2.0               </td><td>0.0                </td><td>1.0               </td><td>7.0              </td><td>322.0             </td><td>3.0               </td><td>0.09644308110025754   </td><td>0.2037437273977306   </td><td>0.20374372739773083     </td></tr>\n",
       "<tr><td>9      </td><td>27416                </td><td>1277              </td><td>1651               </td><td>93             </td><td>1153758  </td><td>2014-08-30</td><td>2014-09-27</td><td>23AUG14:06:51:53</td><td>3                         </td><td>9        </td><td>0           </td><td>0           </td><td>8.0               </td><td>7.0                </td><td>7.0               </td><td>2.0               </td><td>1.0                </td><td>1.0               </td><td>28.0             </td><td>7.0               </td><td>1.0               </td><td>0.15415878062710248   </td><td>0.2037437273977306   </td><td>0.20374372739773083     </td></tr>\n",
       "</tbody>\n",
       "</table>"
      ]
     },
     "metadata": {},
     "output_type": "display_data"
    }
   ],
   "source": [
    "e_valid.describe()"
   ]
  },
  {
   "cell_type": "code",
   "execution_count": 16,
   "metadata": {},
   "outputs": [
    {
     "name": "stdout",
     "output_type": "stream",
     "text": [
      "Rows:421626\n",
      "Cols:24\n",
      "\n",
      "\n"
     ]
    },
    {
     "data": {
      "text/html": [
       "<table>\n",
       "<thead>\n",
       "<tr><th>       </th><th>srch_destination_id  </th><th>user_location_id  </th><th>hotel_location_id  </th><th>hotel_cluster  </th><th>user_id  </th><th>srch_ci   </th><th>srch_co   </th><th>date_time       </th><th>srch_destination_type_id  </th><th>channel  </th><th>is_package  </th><th>is_booking  </th><th>srch_ci_month    </th><th>srch_ci_dayofweek  </th><th>srch_dayofweek    </th><th>srch_adults_cnt   </th><th>srch_children_cnt  </th><th>srch_rm_cnt       </th><th>length_stay       </th><th>book_advance_day  </th><th>cnt              </th><th>hotel_location_id_te  </th><th>user_location_id_te  </th><th>srch_destination_id_te  </th></tr>\n",
       "</thead>\n",
       "<tbody>\n",
       "<tr><td>type   </td><td>enum                 </td><td>enum              </td><td>enum               </td><td>enum           </td><td>enum     </td><td>enum      </td><td>enum      </td><td>enum            </td><td>enum                      </td><td>enum     </td><td>enum        </td><td>enum        </td><td>int              </td><td>int                </td><td>int               </td><td>int               </td><td>int                </td><td>int               </td><td>int               </td><td>int               </td><td>int              </td><td>real                  </td><td>real                 </td><td>real                    </td></tr>\n",
       "<tr><td>mins   </td><td>                     </td><td>                  </td><td>                   </td><td>               </td><td>         </td><td>          </td><td>          </td><td>                </td><td>                          </td><td>         </td><td>            </td><td>            </td><td>1.0              </td><td>1.0                </td><td>1.0               </td><td>0.0               </td><td>0.0                </td><td>0.0               </td><td>-335.0            </td><td>0.0               </td><td>1.0              </td><td>-0.16059111099876253  </td><td>-0.1603938661161789  </td><td>-0.16118653636611785    </td></tr>\n",
       "<tr><td>mean   </td><td>                     </td><td>                  </td><td>                   </td><td>               </td><td>         </td><td>          </td><td>          </td><td>                </td><td>                          </td><td>         </td><td>            </td><td>            </td><td>8.246768463045447</td><td>4.319273479339526  </td><td>3.815213008685426 </td><td>1.985895082371581 </td><td>0.24743967402389802</td><td>1.1008974778595242</td><td>3.4177754692547344</td><td>58.73650106966826 </td><td>3.968185073975507</td><td>0.20246958568256485   </td><td>0.20417833795674628  </td><td>0.20032527719129295     </td></tr>\n",
       "<tr><td>maxs   </td><td>                     </td><td>                  </td><td>                   </td><td>               </td><td>         </td><td>          </td><td>          </td><td>                </td><td>                          </td><td>         </td><td>            </td><td>            </td><td>12.0             </td><td>7.0                </td><td>7.0               </td><td>9.0               </td><td>9.0                </td><td>8.0               </td><td>370.0             </td><td>696.0             </td><td>341.0            </td><td>0.9955166970509473    </td><td>0.7553484690397932   </td><td>1.0764339854871672      </td></tr>\n",
       "<tr><td>sigma  </td><td>                     </td><td>                  </td><td>                   </td><td>               </td><td>         </td><td>          </td><td>          </td><td>                </td><td>                          </td><td>         </td><td>            </td><td>            </td><td>3.968762468833243</td><td>2.0053597437845294 </td><td>1.8833998317156635</td><td>0.8465260000341048</td><td>0.6592710150455872 </td><td>0.4286970182522297</td><td>4.372739296296807 </td><td>71.50235852710206 </td><td>6.277147524833237</td><td>0.09380931837699444   </td><td>0.03375852427589929  </td><td>0.10884030068797207     </td></tr>\n",
       "<tr><td>zeros  </td><td>                     </td><td>                  </td><td>                   </td><td>               </td><td>         </td><td>          </td><td>          </td><td>                </td><td>                          </td><td>         </td><td>            </td><td>            </td><td>0                </td><td>0                  </td><td>0                 </td><td>624               </td><td>358422             </td><td>13                </td><td>3106              </td><td>14977             </td><td>0                </td><td>0                     </td><td>0                    </td><td>0                       </td></tr>\n",
       "<tr><td>missing</td><td>0                    </td><td>0                 </td><td>0                  </td><td>0              </td><td>0        </td><td>0         </td><td>0         </td><td>0               </td><td>0                         </td><td>0        </td><td>0           </td><td>0           </td><td>0                </td><td>0                  </td><td>0                 </td><td>0                 </td><td>0                  </td><td>0                 </td><td>0                 </td><td>0                 </td><td>0                </td><td>0                     </td><td>0                    </td><td>0                       </td></tr>\n",
       "<tr><td>0      </td><td>536                  </td><td>1973              </td><td>1626               </td><td>20             </td><td>668807   </td><td>2014-09-09</td><td>2014-09-16</td><td>06SEP14:03:50:01</td><td>3                         </td><td>9        </td><td>0           </td><td>1           </td><td>9.0              </td><td>3.0                </td><td>7.0               </td><td>1.0               </td><td>0.0                </td><td>1.0               </td><td>7.0               </td><td>3.0               </td><td>11.0             </td><td>0.20374372739773058   </td><td>0.2037437273977306   </td><td>0.20374372739773083     </td></tr>\n",
       "<tr><td>1      </td><td>64591                </td><td>226               </td><td>1269               </td><td>58             </td><td>373106   </td><td>2014-12-25</td><td>2014-12-30</td><td>26OCT14:19:52:31</td><td>1                         </td><td>5        </td><td>0           </td><td>0           </td><td>12.0             </td><td>5.0                </td><td>1.0               </td><td>2.0               </td><td>0.0                </td><td>1.0               </td><td>5.0               </td><td>60.0              </td><td>1.0              </td><td>0.08262084866747443   </td><td>0.2037437273977306   </td><td>0.20374372739773083     </td></tr>\n",
       "<tr><td>2      </td><td>33460                </td><td>468               </td><td>1597               </td><td>20             </td><td>193647   </td><td>2014-12-04</td><td>2014-12-07</td><td>29NOV14:17:28:33</td><td>6                         </td><td>2        </td><td>0           </td><td>0           </td><td>12.0             </td><td>5.0                </td><td>7.0               </td><td>2.0               </td><td>0.0                </td><td>1.0               </td><td>3.0               </td><td>5.0               </td><td>2.0              </td><td>0.048618468174445845  </td><td>0.2037437273977306   </td><td>0.20374372739773083     </td></tr>\n",
       "<tr><td>3      </td><td>5522                 </td><td>1381              </td><td>169                </td><td>50             </td><td>739738   </td><td>2014-11-01</td><td>2014-11-03</td><td>18OCT14:08:14:35</td><td>3                         </td><td>9        </td><td>0           </td><td>1           </td><td>11.0             </td><td>7.0                </td><td>7.0               </td><td>1.0               </td><td>0.0                </td><td>1.0               </td><td>2.0               </td><td>62.0              </td><td>8.0              </td><td>0.36118545629761434   </td><td>0.2037437273977306   </td><td>0.20374372739773083     </td></tr>\n",
       "<tr><td>4      </td><td>5929                 </td><td>278               </td><td>1700               </td><td>53             </td><td>256997   </td><td>2014-11-14</td><td>2014-11-15</td><td>13NOV14:13:13:39</td><td>3                         </td><td>9        </td><td>0           </td><td>1           </td><td>11.0             </td><td>6.0                </td><td>5.0               </td><td>2.0               </td><td>0.0                </td><td>1.0               </td><td>1.0               </td><td>1.0               </td><td>2.0              </td><td>0.04033587500521562   </td><td>0.2037437273977306   </td><td>0.20374372739773083     </td></tr>\n",
       "<tr><td>5      </td><td>11966                </td><td>1581              </td><td>1725               </td><td>5              </td><td>467351   </td><td>2015-05-26</td><td>2015-05-28</td><td>23DEC14:13:25:27</td><td>3                         </td><td>5        </td><td>0           </td><td>0           </td><td>5.0              </td><td>3.0                </td><td>3.0               </td><td>2.0               </td><td>0.0                </td><td>2.0               </td><td>2.0               </td><td>155.0             </td><td>5.0              </td><td>0.3528846285078261    </td><td>0.2037437273977306   </td><td>0.20374372739773083     </td></tr>\n",
       "<tr><td>6      </td><td>20618                </td><td>1298              </td><td>1772               </td><td>89             </td><td>573510   </td><td>2014-10-27</td><td>2014-10-28</td><td>01OCT14:16:46:21</td><td>6                         </td><td>1        </td><td>1           </td><td>0           </td><td>10.0             </td><td>2.0                </td><td>4.0               </td><td>1.0               </td><td>0.0                </td><td>1.0               </td><td>1.0               </td><td>26.0              </td><td>1.0              </td><td>0.2469126780493424    </td><td>0.2037437273977306   </td><td>0.20374372739773083     </td></tr>\n",
       "<tr><td>7      </td><td>35822                </td><td>1197              </td><td>1848               </td><td>53             </td><td>156899   </td><td>2014-09-26</td><td>2014-09-28</td><td>16SEP14:07:13:19</td><td>3                         </td><td>9        </td><td>0           </td><td>0           </td><td>9.0              </td><td>6.0                </td><td>3.0               </td><td>2.0               </td><td>0.0                </td><td>1.0               </td><td>2.0               </td><td>10.0              </td><td>2.0              </td><td>0.33928593234711457   </td><td>0.2037437273977306   </td><td>0.20374372739773083     </td></tr>\n",
       "<tr><td>8      </td><td>46634                </td><td>1334              </td><td>2081               </td><td>29             </td><td>858285   </td><td>2014-09-12</td><td>2014-09-14</td><td>10SEP14:11:53:01</td><td>6                         </td><td>9        </td><td>0           </td><td>0           </td><td>9.0              </td><td>6.0                </td><td>4.0               </td><td>2.0               </td><td>0.0                </td><td>1.0               </td><td>2.0               </td><td>2.0               </td><td>1.0              </td><td>0.21233227707180935   </td><td>0.2037437273977306   </td><td>0.20374372739773083     </td></tr>\n",
       "<tr><td>9      </td><td>28151                </td><td>1103              </td><td>49                 </td><td>9              </td><td>595867   </td><td>2014-12-09</td><td>2014-12-17</td><td>20NOV14:06:10:07</td><td>4                         </td><td>9        </td><td>0           </td><td>1           </td><td>12.0             </td><td>3.0                </td><td>5.0               </td><td>2.0               </td><td>0.0                </td><td>1.0               </td><td>8.0               </td><td>19.0              </td><td>2.0              </td><td>0.23121549853085208   </td><td>0.2037437273977306   </td><td>0.20374372739773083     </td></tr>\n",
       "</tbody>\n",
       "</table>"
      ]
     },
     "metadata": {},
     "output_type": "display_data"
    }
   ],
   "source": [
    "e_test.describe()"
   ]
  },
  {
   "cell_type": "code",
   "execution_count": 17,
   "metadata": {},
   "outputs": [],
   "source": [
    "e_train_as_pandas=e_train.as_data_frame()\n",
    "e_valid_as_pandas=e_valid.as_data_frame()\n",
    "e_test_as_pandas=e_test.as_data_frame()"
   ]
  },
  {
   "cell_type": "code",
   "execution_count": 18,
   "metadata": {},
   "outputs": [],
   "source": [
    "e_valid_as_pandas.to_csv('valid_encoded.csv',index=False)"
   ]
  },
  {
   "cell_type": "code",
   "execution_count": 19,
   "metadata": {},
   "outputs": [],
   "source": [
    "e_test_as_pandas.to_csv('test_encoded.csv',index=False)"
   ]
  },
  {
   "cell_type": "code",
   "execution_count": 20,
   "metadata": {},
   "outputs": [],
   "source": [
    "e_train_as_pandas.to_csv('train_encoded.csv',index=False)"
   ]
  }
 ],
 "metadata": {
  "kernelspec": {
   "display_name": "Python 3",
   "language": "python",
   "name": "python3"
  },
  "language_info": {
   "codemirror_mode": {
    "name": "ipython",
    "version": 3
   },
   "file_extension": ".py",
   "mimetype": "text/x-python",
   "name": "python",
   "nbconvert_exporter": "python",
   "pygments_lexer": "ipython3",
   "version": "3.7.1"
  }
 },
 "nbformat": 4,
 "nbformat_minor": 2
}
